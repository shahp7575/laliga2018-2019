{
 "cells": [
  {
   "cell_type": "code",
   "execution_count": 1,
   "metadata": {
    "collapsed": true
   },
   "outputs": [],
   "source": [
    "import numpy as np\n",
    "import pandas as pd\n",
    "import urllib\n",
    "import bs4\n",
    "import selenium\n",
    "from selenium import webdriver\n",
    "import time"
   ]
  },
  {
   "cell_type": "code",
   "execution_count": 2,
   "metadata": {
    "collapsed": true
   },
   "outputs": [],
   "source": [
    "test_link = 'https://www.msn.com/en-us/sports/soccer/la-liga/eibar-v-barcelona/game-center/sp-id-80402000001009693'\n",
    "html = urllib.request.urlopen(test_link)\n",
    "raw = bs4.BeautifulSoup(html, 'lxml')"
   ]
  },
  {
   "cell_type": "code",
   "execution_count": 56,
   "metadata": {
    "collapsed": true
   },
   "outputs": [],
   "source": [
    "def get_score_count_perhalf(score_link):\n",
    "    result_link = score_link.find('div', {'id': 'main'}).find('div', {'class': 'teamevent'})\n",
    "    home_team_link = result_link.find('div', {'class': 'hometeamevent'}).findAll('span', {'class': 'scoremins'})\n",
    "    home_team_scores = []\n",
    "    home_team_scores_firsthalf = 0\n",
    "    home_team_scores_secondhalf = 0\n",
    "    for h in home_team_link:\n",
    "        score = h.text.strip().split(\"'\")[0]\n",
    "        if int(score) <= 45:\n",
    "            home_team_scores_firsthalf += 1\n",
    "        if int(score) > 45:\n",
    "            home_team_scores_secondhalf += 1\n",
    "        home_team_scores.append(score)\n",
    "\n",
    "    away_team_link = result_link.find('div', {'class': 'visitingteamevent'}).findAll('span', {'class': 'scoremins'})\n",
    "    away_team_scores = []\n",
    "    away_team_scores_firsthalf = 0\n",
    "    away_team_scores_secondhalf = 0\n",
    "    for a in away_team_link:\n",
    "        score = a.text.strip().split(\"'\")[0]\n",
    "        if int(score) <= 45:\n",
    "            away_team_scores_firsthalf += 1\n",
    "        if int(score) > 45:\n",
    "            away_team_scores_secondhalf += 1\n",
    "        away_team_scores.append(score)\n",
    "        \n",
    "    return(home_team_scores_firsthalf, home_team_scores_secondhalf, away_team_scores_firsthalf, away_team_scores_secondhalf)"
   ]
  },
  {
   "cell_type": "code",
   "execution_count": 57,
   "metadata": {
    "collapsed": true
   },
   "outputs": [],
   "source": [
    "chf, chs, caf, cas = get_score_count_perhalf(raw)"
   ]
  },
  {
   "cell_type": "code",
   "execution_count": 58,
   "metadata": {},
   "outputs": [
    {
     "data": {
      "text/plain": [
       "(2, 0, 2, 0)"
      ]
     },
     "execution_count": 58,
     "metadata": {},
     "output_type": "execute_result"
    }
   ],
   "source": [
    "chf, chs, caf, cas"
   ]
  },
  {
   "cell_type": "code",
   "execution_count": 55,
   "metadata": {},
   "outputs": [
    {
     "name": "stdout",
     "output_type": "stream",
     "text": [
      "20\n",
      "45\n",
      "2 0\n",
      "31\n",
      "32\n",
      "2 0\n"
     ]
    }
   ],
   "source": [
    "result_link = raw.find('div', {'id': 'main'}).find('div', {'class': 'teamevent'})\n",
    "home_team_link = result_link.find('div', {'class': 'hometeamevent'}).findAll('span', {'class': 'scoremins'})\n",
    "home_team_scores = []\n",
    "home_team_scores_firsthalf = 0\n",
    "home_team_scores_secondhalf = 0\n",
    "for h in home_team_link:\n",
    "    score = h.text.strip().split(\"'\")[0]\n",
    "    print(score)\n",
    "    if int(score) <= 45:\n",
    "        home_team_scores_firsthalf += 1\n",
    "    if int(score) > 45:\n",
    "        home_team_scores_secondhalf += 1\n",
    "    home_team_scores.append(score)\n",
    "\n",
    "print(home_team_scores_firsthalf, home_team_scores_secondhalf)\n",
    "\n",
    "away_team_link = result_link.find('div', {'class': 'visitingteamevent'}).findAll('span', {'class': 'scoremins'})\n",
    "away_team_scores = []\n",
    "away_team_scores_firsthalf = 0\n",
    "away_team_scores_secondhalf = 0\n",
    "for a in away_team_link:\n",
    "    score = a.text.strip().split(\"'\")[0]\n",
    "    print(score)\n",
    "    if int(score) <= 45:\n",
    "        away_team_scores_firsthalf += 1\n",
    "    if int(score) > 45:\n",
    "        away_team_scores_secondhalf += 1\n",
    "    away_team_scores.append(score)\n",
    "\n",
    "print(away_team_scores_firsthalf, away_team_scores_secondhalf)"
   ]
  },
  {
   "cell_type": "code",
   "execution_count": 47,
   "metadata": {},
   "outputs": [
    {
     "data": {
      "text/plain": [
       "(['20', '45'], ['31', '32'])"
      ]
     },
     "execution_count": 47,
     "metadata": {},
     "output_type": "execute_result"
    }
   ],
   "source": [
    "home_team_scores, away_team_scores"
   ]
  },
  {
   "cell_type": "code",
   "execution_count": 7,
   "metadata": {},
   "outputs": [
    {
     "data": {
      "text/plain": [
       "<div class=\"teamevent \">\n",
       "<div class=\"hometeamevent\">\n",
       "<ul>\n",
       "<li>\n",
       "<span class=\"scoremins\">20'</span>\n",
       "<span class=\"playername hide1\">\n",
       "<a href=\"/en-us/sports/soccer/marc-cucurella/player/sp-id-80302000000179268\">Marc Cucurella</a> </span>\n",
       "<span class=\"playername hide234\">\n",
       "<a href=\"/en-us/sports/soccer/marc-cucurella/player/sp-id-80302000000179268\">Cucurella</a> </span>\n",
       "</li>\n",
       "<li>\n",
       "<span class=\"scoremins\">45'</span>\n",
       "<span class=\"playername hide1\">\n",
       "<a href=\"/en-us/sports/soccer/pablo-de-blasis/player/sp-id-80302000000126510\">Pablo De Blasis</a> </span>\n",
       "<span class=\"playername hide234\">\n",
       "<a href=\"/en-us/sports/soccer/pablo-de-blasis/player/sp-id-80302000000126510\">De Blasis</a> </span>\n",
       "</li>\n",
       "</ul>\n",
       "</div>\n",
       "<div class=\"visitingteamevent\">\n",
       "<ul>\n",
       "<li>\n",
       "<span class=\"scoremins\">31'</span>\n",
       "<span class=\"playername hide1\">\n",
       "<a href=\"/en-us/sports/soccer/lionel-andr%c3%a9s-messi-cuccittini/player/sp-id-80302000000019054\">Lionel Andrés Messi Cuccittini</a> </span>\n",
       "<span class=\"playername hide234\">\n",
       "<a href=\"/en-us/sports/soccer/lionel-andr%c3%a9s-messi-cuccittini/player/sp-id-80302000000019054\">Messi Cuccittini</a> </span>\n",
       "</li>\n",
       "<li>\n",
       "<span class=\"scoremins\">32'</span>\n",
       "<span class=\"playername hide1\">\n",
       "<a href=\"/en-us/sports/soccer/lionel-andr%c3%a9s-messi-cuccittini/player/sp-id-80302000000019054\">Lionel Andrés Messi Cuccittini</a> </span>\n",
       "<span class=\"playername hide234\">\n",
       "<a href=\"/en-us/sports/soccer/lionel-andr%c3%a9s-messi-cuccittini/player/sp-id-80302000000019054\">Messi Cuccittini</a> </span>\n",
       "</li>\n",
       "</ul>\n",
       "</div>\n",
       "</div>"
      ]
     },
     "execution_count": 7,
     "metadata": {},
     "output_type": "execute_result"
    }
   ],
   "source": [
    "result_link"
   ]
  },
  {
   "cell_type": "code",
   "execution_count": 2,
   "metadata": {},
   "outputs": [
    {
     "name": "stdout",
     "output_type": "stream",
     "text": [
      "https://www.msn.com/en-us/sports/soccer/la-liga/scores/\n"
     ]
    }
   ],
   "source": [
    "url = 'https://www.msn.com/en-us/sports/soccer/la-liga/scores/'\n",
    "print(url)"
   ]
  },
  {
   "cell_type": "code",
   "execution_count": 3,
   "metadata": {
    "collapsed": true
   },
   "outputs": [],
   "source": [
    "page = urllib.request.urlopen(url)\n",
    "soup = bs4.BeautifulSoup(page, 'lxml')"
   ]
  },
  {
   "cell_type": "code",
   "execution_count": 5,
   "metadata": {
    "collapsed": true
   },
   "outputs": [],
   "source": [
    "results = soup.find('div', {'class': 'sectionsgroup'}).findAll('tbody', {'class': ['even rowlink', 'odd rowlink']})"
   ]
  },
  {
   "cell_type": "code",
   "execution_count": 8,
   "metadata": {},
   "outputs": [
    {
     "data": {
      "text/plain": [
       "36"
      ]
     },
     "execution_count": 8,
     "metadata": {},
     "output_type": "execute_result"
    }
   ],
   "source": [
    "len(results) # 36 matches displayed on the first page"
   ]
  },
  {
   "cell_type": "code",
   "execution_count": 9,
   "metadata": {
    "collapsed": true
   },
   "outputs": [],
   "source": [
    "# geckodriver\n",
    "driver = webdriver.Firefox(executable_path='C:/Program Files/Driver/firefox/geckodriver')"
   ]
  },
  {
   "cell_type": "code",
   "execution_count": 10,
   "metadata": {
    "collapsed": true
   },
   "outputs": [],
   "source": [
    "driver.get(url)"
   ]
  },
  {
   "cell_type": "code",
   "execution_count": 14,
   "metadata": {
    "collapsed": true
   },
   "outputs": [],
   "source": [
    "# execute script to run Load More event\n",
    "# sleep for 30s\n",
    "time.sleep(30)\n",
    "# find elements by xpath\n",
    "results = driver.find_element_by_xpath('//*[@id=\"nextContentHandler\"]')\n",
    "results.click()\n",
    "#print('Firefox Webdriver - Number of results', len(results))"
   ]
  },
  {
   "cell_type": "code",
   "execution_count": 15,
   "metadata": {},
   "outputs": [
    {
     "data": {
      "text/plain": [
       "<selenium.webdriver.firefox.webelement.FirefoxWebElement (session=\"19707ea7-2b5d-484e-ac7d-76907a56ad01\", element=\"606d3569-c4ed-4702-a3fe-4ea488e1219c\")>"
      ]
     },
     "execution_count": 15,
     "metadata": {},
     "output_type": "execute_result"
    }
   ],
   "source": [
    "results"
   ]
  },
  {
   "cell_type": "code",
   "execution_count": null,
   "metadata": {
    "collapsed": true
   },
   "outputs": [],
   "source": []
  },
  {
   "cell_type": "code",
   "execution_count": null,
   "metadata": {
    "collapsed": true
   },
   "outputs": [],
   "source": []
  }
 ],
 "metadata": {
  "kernelspec": {
   "display_name": "Python 3",
   "language": "python",
   "name": "python3"
  },
  "language_info": {
   "codemirror_mode": {
    "name": "ipython",
    "version": 3
   },
   "file_extension": ".py",
   "mimetype": "text/x-python",
   "name": "python",
   "nbconvert_exporter": "python",
   "pygments_lexer": "ipython3",
   "version": "3.6.7"
  }
 },
 "nbformat": 4,
 "nbformat_minor": 2
}
